{
 "cells": [
  {
   "cell_type": "markdown",
   "id": "8f32c0f9",
   "metadata": {},
   "source": [
    "# Task Requirement：\n",
    "1、Average for the course identified in a box and whisker chart by different section indentified by the teacher's name and section period.     \n",
    "2、Bar and grap chart showing the spread of letter grades in each section identified by the teacher's name and section period.  "
   ]
  },
  {
   "cell_type": "code",
   "execution_count": 4,
   "id": "7459e8bb",
   "metadata": {
    "scrolled": false
   },
   "outputs": [
    {
     "data": {
      "text/html": [
       "<div>\n",
       "<style scoped>\n",
       "    .dataframe tbody tr th:only-of-type {\n",
       "        vertical-align: middle;\n",
       "    }\n",
       "\n",
       "    .dataframe tbody tr th {\n",
       "        vertical-align: top;\n",
       "    }\n",
       "\n",
       "    .dataframe thead th {\n",
       "        text-align: right;\n",
       "    }\n",
       "</style>\n",
       "<table border=\"1\" class=\"dataframe\">\n",
       "  <thead>\n",
       "    <tr style=\"text-align: right;\">\n",
       "      <th></th>\n",
       "      <th>House</th>\n",
       "      <th>Student_Number</th>\n",
       "      <th>Name filtered</th>\n",
       "      <th>Grade_Level</th>\n",
       "      <th>Course_Number</th>\n",
       "      <th>Grade</th>\n",
       "      <th>Percent</th>\n",
       "      <th>Period</th>\n",
       "      <th>Section_Number</th>\n",
       "    </tr>\n",
       "  </thead>\n",
       "  <tbody>\n",
       "    <tr>\n",
       "      <th>0</th>\n",
       "      <td>Song</td>\n",
       "      <td>265102</td>\n",
       "      <td>ng, Vivian</td>\n",
       "      <td>10</td>\n",
       "      <td>ENG209</td>\n",
       "      <td>A-</td>\n",
       "      <td>90</td>\n",
       "      <td>1(A,C,E)</td>\n",
       "      <td>1</td>\n",
       "    </tr>\n",
       "    <tr>\n",
       "      <th>1</th>\n",
       "      <td>Tang</td>\n",
       "      <td>264106</td>\n",
       "      <td>ng, Vivian</td>\n",
       "      <td>10</td>\n",
       "      <td>ENG209</td>\n",
       "      <td>A-</td>\n",
       "      <td>90</td>\n",
       "      <td>1(A,C,E)</td>\n",
       "      <td>1</td>\n",
       "    </tr>\n",
       "    <tr>\n",
       "      <th>2</th>\n",
       "      <td>Qing</td>\n",
       "      <td>268108</td>\n",
       "      <td>ng, Vivian</td>\n",
       "      <td>10</td>\n",
       "      <td>ENG209</td>\n",
       "      <td>B</td>\n",
       "      <td>84</td>\n",
       "      <td>1(A,C,E)</td>\n",
       "      <td>1</td>\n",
       "    </tr>\n",
       "    <tr>\n",
       "      <th>3</th>\n",
       "      <td>Song</td>\n",
       "      <td>265119</td>\n",
       "      <td>ng, Vivian</td>\n",
       "      <td>10</td>\n",
       "      <td>ENG209</td>\n",
       "      <td>A-</td>\n",
       "      <td>92</td>\n",
       "      <td>1(A,C,E)</td>\n",
       "      <td>1</td>\n",
       "    </tr>\n",
       "    <tr>\n",
       "      <th>4</th>\n",
       "      <td>Ming</td>\n",
       "      <td>267136</td>\n",
       "      <td>ng, Vivian</td>\n",
       "      <td>10</td>\n",
       "      <td>ENG209</td>\n",
       "      <td>A</td>\n",
       "      <td>94</td>\n",
       "      <td>1(A,C,E)</td>\n",
       "      <td>1</td>\n",
       "    </tr>\n",
       "  </tbody>\n",
       "</table>\n",
       "</div>"
      ],
      "text/plain": [
       "  House  Student_Number Name filtered  Grade_Level Course_Number Grade  \\\n",
       "0  Song          265102    ng, Vivian           10        ENG209    A-   \n",
       "1  Tang          264106    ng, Vivian           10        ENG209    A-   \n",
       "2  Qing          268108    ng, Vivian           10        ENG209     B   \n",
       "3  Song          265119    ng, Vivian           10        ENG209    A-   \n",
       "4  Ming          267136    ng, Vivian           10        ENG209     A   \n",
       "\n",
       "   Percent    Period  Section_Number  \n",
       "0       90  1(A,C,E)               1  \n",
       "1       90  1(A,C,E)               1  \n",
       "2       84  1(A,C,E)               1  \n",
       "3       92  1(A,C,E)               1  \n",
       "4       94  1(A,C,E)               1  "
      ]
     },
     "execution_count": 4,
     "metadata": {},
     "output_type": "execute_result"
    }
   ],
   "source": [
    "import pandas as pd \n",
    "import numpy as np\n",
    "df = pd.read_excel(r\"C:\\Users\\Yixiong Zhang\\Desktop\\Watched_Course.xlsx\")\n",
    "df.head()"
   ]
  },
  {
   "cell_type": "code",
   "execution_count": 96,
   "id": "c8bbd5b6",
   "metadata": {
    "scrolled": true
   },
   "outputs": [
    {
     "name": "stdout",
     "output_type": "stream",
     "text": [
      "<class 'pandas.core.frame.DataFrame'>\n",
      "RangeIndex: 575 entries, 0 to 574\n",
      "Data columns (total 9 columns):\n",
      " #   Column          Non-Null Count  Dtype \n",
      "---  ------          --------------  ----- \n",
      " 0   House           575 non-null    object\n",
      " 1   Student_Number  575 non-null    int64 \n",
      " 2   Name filtered   575 non-null    object\n",
      " 3   Grade_Level     575 non-null    int64 \n",
      " 4   Course_Number   575 non-null    object\n",
      " 5   Grade           575 non-null    object\n",
      " 6   Percent         575 non-null    int64 \n",
      " 7   Period          575 non-null    object\n",
      " 8   Section_Number  575 non-null    int64 \n",
      "dtypes: int64(4), object(5)\n",
      "memory usage: 40.6+ KB\n"
     ]
    }
   ],
   "source": [
    "# check data info\n",
    "df.info()"
   ]
  },
  {
   "cell_type": "code",
   "execution_count": 33,
   "id": "a214bb74",
   "metadata": {},
   "outputs": [
    {
     "data": {
      "text/plain": [
       "<bound method NDFrame._add_numeric_operations.<locals>.sum of      House  Student_Number  Name filtered  Grade_Level  Course_Number  Grade  \\\n",
       "0    False           False          False        False          False  False   \n",
       "1    False           False          False        False          False  False   \n",
       "2    False           False          False        False          False  False   \n",
       "3    False           False          False        False          False  False   \n",
       "4    False           False          False        False          False  False   \n",
       "..     ...             ...            ...          ...            ...    ...   \n",
       "570  False           False          False        False          False  False   \n",
       "571  False           False          False        False          False  False   \n",
       "572  False           False          False        False          False  False   \n",
       "573  False           False          False        False          False  False   \n",
       "574  False           False          False        False          False  False   \n",
       "\n",
       "     Percent  Period  Section_Number  \n",
       "0      False   False           False  \n",
       "1      False   False           False  \n",
       "2      False   False           False  \n",
       "3      False   False           False  \n",
       "4      False   False           False  \n",
       "..       ...     ...             ...  \n",
       "570    False   False           False  \n",
       "571    False   False           False  \n",
       "572    False   False           False  \n",
       "573    False   False           False  \n",
       "574    False   False           False  \n",
       "\n",
       "[575 rows x 9 columns]>"
      ]
     },
     "execution_count": 33,
     "metadata": {},
     "output_type": "execute_result"
    }
   ],
   "source": [
    "# check missing values\n",
    "df.isnull().sum"
   ]
  },
  {
   "cell_type": "code",
   "execution_count": 95,
   "id": "82e7978e",
   "metadata": {},
   "outputs": [
    {
     "data": {
      "text/html": [
       "<div>\n",
       "<style scoped>\n",
       "    .dataframe tbody tr th:only-of-type {\n",
       "        vertical-align: middle;\n",
       "    }\n",
       "\n",
       "    .dataframe tbody tr th {\n",
       "        vertical-align: top;\n",
       "    }\n",
       "\n",
       "    .dataframe thead th {\n",
       "        text-align: right;\n",
       "    }\n",
       "</style>\n",
       "<table border=\"1\" class=\"dataframe\">\n",
       "  <thead>\n",
       "    <tr style=\"text-align: right;\">\n",
       "      <th></th>\n",
       "      <th>Student_Number</th>\n",
       "      <th>Grade_Level</th>\n",
       "      <th>Percent</th>\n",
       "      <th>Section_Number</th>\n",
       "    </tr>\n",
       "  </thead>\n",
       "  <tbody>\n",
       "    <tr>\n",
       "      <th>count</th>\n",
       "      <td>575.000000</td>\n",
       "      <td>575.000000</td>\n",
       "      <td>575.000000</td>\n",
       "      <td>575.000000</td>\n",
       "    </tr>\n",
       "    <tr>\n",
       "      <th>mean</th>\n",
       "      <td>264480.417391</td>\n",
       "      <td>10.153043</td>\n",
       "      <td>85.071304</td>\n",
       "      <td>4.845217</td>\n",
       "    </tr>\n",
       "    <tr>\n",
       "      <th>std</th>\n",
       "      <td>5563.034482</td>\n",
       "      <td>0.450575</td>\n",
       "      <td>11.831871</td>\n",
       "      <td>2.711193</td>\n",
       "    </tr>\n",
       "    <tr>\n",
       "      <th>min</th>\n",
       "      <td>240017.000000</td>\n",
       "      <td>9.000000</td>\n",
       "      <td>21.000000</td>\n",
       "      <td>1.000000</td>\n",
       "    </tr>\n",
       "    <tr>\n",
       "      <th>25%</th>\n",
       "      <td>264109.500000</td>\n",
       "      <td>10.000000</td>\n",
       "      <td>81.000000</td>\n",
       "      <td>3.000000</td>\n",
       "    </tr>\n",
       "    <tr>\n",
       "      <th>50%</th>\n",
       "      <td>266102.000000</td>\n",
       "      <td>10.000000</td>\n",
       "      <td>88.000000</td>\n",
       "      <td>5.000000</td>\n",
       "    </tr>\n",
       "    <tr>\n",
       "      <th>75%</th>\n",
       "      <td>267120.000000</td>\n",
       "      <td>10.000000</td>\n",
       "      <td>93.000000</td>\n",
       "      <td>7.000000</td>\n",
       "    </tr>\n",
       "    <tr>\n",
       "      <th>max</th>\n",
       "      <td>298139.000000</td>\n",
       "      <td>12.000000</td>\n",
       "      <td>100.000000</td>\n",
       "      <td>10.000000</td>\n",
       "    </tr>\n",
       "  </tbody>\n",
       "</table>\n",
       "</div>"
      ],
      "text/plain": [
       "       Student_Number  Grade_Level     Percent  Section_Number\n",
       "count      575.000000   575.000000  575.000000      575.000000\n",
       "mean    264480.417391    10.153043   85.071304        4.845217\n",
       "std       5563.034482     0.450575   11.831871        2.711193\n",
       "min     240017.000000     9.000000   21.000000        1.000000\n",
       "25%     264109.500000    10.000000   81.000000        3.000000\n",
       "50%     266102.000000    10.000000   88.000000        5.000000\n",
       "75%     267120.000000    10.000000   93.000000        7.000000\n",
       "max     298139.000000    12.000000  100.000000       10.000000"
      ]
     },
     "execution_count": 95,
     "metadata": {},
     "output_type": "execute_result"
    }
   ],
   "source": [
    "# understand Numerical feature\n",
    "# 'Student_Number','Grade_Level','Percent','Section_Number'\n",
    "df[['Student_Number','Grade_Level','Percent','Section_Number']].describe()"
   ]
  },
  {
   "cell_type": "code",
   "execution_count": 186,
   "id": "50ad0710",
   "metadata": {},
   "outputs": [
    {
     "data": {
      "text/html": [
       "<div>\n",
       "<style scoped>\n",
       "    .dataframe tbody tr th:only-of-type {\n",
       "        vertical-align: middle;\n",
       "    }\n",
       "\n",
       "    .dataframe tbody tr th {\n",
       "        vertical-align: top;\n",
       "    }\n",
       "\n",
       "    .dataframe thead th {\n",
       "        text-align: right;\n",
       "    }\n",
       "</style>\n",
       "<table border=\"1\" class=\"dataframe\">\n",
       "  <thead>\n",
       "    <tr style=\"text-align: right;\">\n",
       "      <th></th>\n",
       "      <th>Name filtered</th>\n",
       "      <th>Course_Number</th>\n",
       "      <th>Period</th>\n",
       "      <th>Average_percent</th>\n",
       "    </tr>\n",
       "  </thead>\n",
       "  <tbody>\n",
       "    <tr>\n",
       "      <th>0</th>\n",
       "      <td>, Jack</td>\n",
       "      <td>ENG312</td>\n",
       "      <td>1(A,C,E)</td>\n",
       "      <td>92.454545</td>\n",
       "    </tr>\n",
       "    <tr>\n",
       "      <th>1</th>\n",
       "      <td>, Jack</td>\n",
       "      <td>ENG312</td>\n",
       "      <td>4(A,C,E)</td>\n",
       "      <td>95.416667</td>\n",
       "    </tr>\n",
       "    <tr>\n",
       "      <th>2</th>\n",
       "      <td>, Jenny</td>\n",
       "      <td>MATH106</td>\n",
       "      <td>6(B,D-E)</td>\n",
       "      <td>70.409091</td>\n",
       "    </tr>\n",
       "    <tr>\n",
       "      <th>3</th>\n",
       "      <td>, Jenny</td>\n",
       "      <td>MATH205</td>\n",
       "      <td>5(B,D-E)</td>\n",
       "      <td>80.047619</td>\n",
       "    </tr>\n",
       "    <tr>\n",
       "      <th>4</th>\n",
       "      <td>, Kwok</td>\n",
       "      <td>MATH205</td>\n",
       "      <td>3(A,C,E)</td>\n",
       "      <td>82.142857</td>\n",
       "    </tr>\n",
       "    <tr>\n",
       "      <th>5</th>\n",
       "      <td>, Kwok</td>\n",
       "      <td>MATH205</td>\n",
       "      <td>7(B,D-E)</td>\n",
       "      <td>73.055556</td>\n",
       "    </tr>\n",
       "    <tr>\n",
       "      <th>6</th>\n",
       "      <td>, Kwok</td>\n",
       "      <td>MATH205</td>\n",
       "      <td>8(B,D-E)</td>\n",
       "      <td>76.875000</td>\n",
       "    </tr>\n",
       "    <tr>\n",
       "      <th>7</th>\n",
       "      <td>, Matt</td>\n",
       "      <td>PHY204</td>\n",
       "      <td>1(A,C,E)</td>\n",
       "      <td>82.952381</td>\n",
       "    </tr>\n",
       "    <tr>\n",
       "      <th>8</th>\n",
       "      <td>, Matt</td>\n",
       "      <td>PHY204</td>\n",
       "      <td>7(B,D-E)</td>\n",
       "      <td>87.380952</td>\n",
       "    </tr>\n",
       "    <tr>\n",
       "      <th>9</th>\n",
       "      <td>, Matt</td>\n",
       "      <td>PHY204</td>\n",
       "      <td>8(B,D-E)</td>\n",
       "      <td>74.352941</td>\n",
       "    </tr>\n",
       "    <tr>\n",
       "      <th>10</th>\n",
       "      <td>, Mersara</td>\n",
       "      <td>ENG209</td>\n",
       "      <td>4(A,C,E)</td>\n",
       "      <td>90.125000</td>\n",
       "    </tr>\n",
       "    <tr>\n",
       "      <th>11</th>\n",
       "      <td>ang, Channie</td>\n",
       "      <td>MATH205</td>\n",
       "      <td>1(A,C,E)</td>\n",
       "      <td>83.500000</td>\n",
       "    </tr>\n",
       "    <tr>\n",
       "      <th>12</th>\n",
       "      <td>ang, Channie</td>\n",
       "      <td>MATH205</td>\n",
       "      <td>4(A,C,E)</td>\n",
       "      <td>82.058824</td>\n",
       "    </tr>\n",
       "    <tr>\n",
       "      <th>13</th>\n",
       "      <td>ang, Mia</td>\n",
       "      <td>PHY204</td>\n",
       "      <td>3(A,C,E)</td>\n",
       "      <td>80.631579</td>\n",
       "    </tr>\n",
       "    <tr>\n",
       "      <th>14</th>\n",
       "      <td>ao, Yilia</td>\n",
       "      <td>ENG209</td>\n",
       "      <td>3(A,C,E)</td>\n",
       "      <td>90.545455</td>\n",
       "    </tr>\n",
       "    <tr>\n",
       "      <th>15</th>\n",
       "      <td>blay, Noel</td>\n",
       "      <td>PHY204</td>\n",
       "      <td>4(A,C,E)</td>\n",
       "      <td>80.095238</td>\n",
       "    </tr>\n",
       "    <tr>\n",
       "      <th>16</th>\n",
       "      <td>blay, Noel</td>\n",
       "      <td>PHY204</td>\n",
       "      <td>6(B,D-E)</td>\n",
       "      <td>84.312500</td>\n",
       "    </tr>\n",
       "    <tr>\n",
       "      <th>17</th>\n",
       "      <td>ng, Vivian</td>\n",
       "      <td>ENG209</td>\n",
       "      <td>1(A,C,E)</td>\n",
       "      <td>87.409091</td>\n",
       "    </tr>\n",
       "    <tr>\n",
       "      <th>18</th>\n",
       "      <td>ng, Vivian</td>\n",
       "      <td>ENG209</td>\n",
       "      <td>8(B,D-E)</td>\n",
       "      <td>88.050000</td>\n",
       "    </tr>\n",
       "    <tr>\n",
       "      <th>19</th>\n",
       "      <td>ng, Vivian</td>\n",
       "      <td>ENG312</td>\n",
       "      <td>5(B,D-E)</td>\n",
       "      <td>94.181818</td>\n",
       "    </tr>\n",
       "    <tr>\n",
       "      <th>20</th>\n",
       "      <td>ng, Vivian</td>\n",
       "      <td>ENG312</td>\n",
       "      <td>7(B,D-E)</td>\n",
       "      <td>92.769231</td>\n",
       "    </tr>\n",
       "    <tr>\n",
       "      <th>21</th>\n",
       "      <td>ou, Evelyn</td>\n",
       "      <td>ENG209</td>\n",
       "      <td>7(B,D-E)</td>\n",
       "      <td>89.521739</td>\n",
       "    </tr>\n",
       "    <tr>\n",
       "      <th>22</th>\n",
       "      <td>rangue, Dinna</td>\n",
       "      <td>PHY204</td>\n",
       "      <td>4(A,C,E)</td>\n",
       "      <td>88.590909</td>\n",
       "    </tr>\n",
       "    <tr>\n",
       "      <th>23</th>\n",
       "      <td>rangue, Dinna</td>\n",
       "      <td>PHY204</td>\n",
       "      <td>5(B,D-E)</td>\n",
       "      <td>91.857143</td>\n",
       "    </tr>\n",
       "    <tr>\n",
       "      <th>24</th>\n",
       "      <td>rangue, Dinna</td>\n",
       "      <td>PHY204</td>\n",
       "      <td>6(B,D-E)</td>\n",
       "      <td>88.928571</td>\n",
       "    </tr>\n",
       "    <tr>\n",
       "      <th>25</th>\n",
       "      <td>rangue, Dinna</td>\n",
       "      <td>PHY204</td>\n",
       "      <td>7(B,D-E)</td>\n",
       "      <td>93.047619</td>\n",
       "    </tr>\n",
       "    <tr>\n",
       "      <th>26</th>\n",
       "      <td>rdad, Rifat</td>\n",
       "      <td>MATH205</td>\n",
       "      <td>6(B,D-E)</td>\n",
       "      <td>81.826087</td>\n",
       "    </tr>\n",
       "    <tr>\n",
       "      <th>27</th>\n",
       "      <td>rgantiel, Janet</td>\n",
       "      <td>MATH205</td>\n",
       "      <td>2(A,C,E)</td>\n",
       "      <td>81.411765</td>\n",
       "    </tr>\n",
       "    <tr>\n",
       "      <th>28</th>\n",
       "      <td>wenya, Wesley</td>\n",
       "      <td>ENG209</td>\n",
       "      <td>1(A,C,E)</td>\n",
       "      <td>86.666667</td>\n",
       "    </tr>\n",
       "    <tr>\n",
       "      <th>29</th>\n",
       "      <td>wenya, Wesley</td>\n",
       "      <td>ENG209</td>\n",
       "      <td>2(A,C,E)</td>\n",
       "      <td>86.789474</td>\n",
       "    </tr>\n",
       "    <tr>\n",
       "      <th>30</th>\n",
       "      <td>wenya, Wesley</td>\n",
       "      <td>ENG209</td>\n",
       "      <td>7(B,D-E)</td>\n",
       "      <td>89.714286</td>\n",
       "    </tr>\n",
       "  </tbody>\n",
       "</table>\n",
       "</div>"
      ],
      "text/plain": [
       "      Name filtered Course_Number    Period  Average_percent\n",
       "0            , Jack        ENG312  1(A,C,E)        92.454545\n",
       "1            , Jack        ENG312  4(A,C,E)        95.416667\n",
       "2           , Jenny       MATH106  6(B,D-E)        70.409091\n",
       "3           , Jenny       MATH205  5(B,D-E)        80.047619\n",
       "4            , Kwok       MATH205  3(A,C,E)        82.142857\n",
       "5            , Kwok       MATH205  7(B,D-E)        73.055556\n",
       "6            , Kwok       MATH205  8(B,D-E)        76.875000\n",
       "7            , Matt        PHY204  1(A,C,E)        82.952381\n",
       "8            , Matt        PHY204  7(B,D-E)        87.380952\n",
       "9            , Matt        PHY204  8(B,D-E)        74.352941\n",
       "10        , Mersara        ENG209  4(A,C,E)        90.125000\n",
       "11     ang, Channie       MATH205  1(A,C,E)        83.500000\n",
       "12     ang, Channie       MATH205  4(A,C,E)        82.058824\n",
       "13         ang, Mia        PHY204  3(A,C,E)        80.631579\n",
       "14        ao, Yilia        ENG209  3(A,C,E)        90.545455\n",
       "15       blay, Noel        PHY204  4(A,C,E)        80.095238\n",
       "16       blay, Noel        PHY204  6(B,D-E)        84.312500\n",
       "17       ng, Vivian        ENG209  1(A,C,E)        87.409091\n",
       "18       ng, Vivian        ENG209  8(B,D-E)        88.050000\n",
       "19       ng, Vivian        ENG312  5(B,D-E)        94.181818\n",
       "20       ng, Vivian        ENG312  7(B,D-E)        92.769231\n",
       "21       ou, Evelyn        ENG209  7(B,D-E)        89.521739\n",
       "22    rangue, Dinna        PHY204  4(A,C,E)        88.590909\n",
       "23    rangue, Dinna        PHY204  5(B,D-E)        91.857143\n",
       "24    rangue, Dinna        PHY204  6(B,D-E)        88.928571\n",
       "25    rangue, Dinna        PHY204  7(B,D-E)        93.047619\n",
       "26      rdad, Rifat       MATH205  6(B,D-E)        81.826087\n",
       "27  rgantiel, Janet       MATH205  2(A,C,E)        81.411765\n",
       "28    wenya, Wesley        ENG209  1(A,C,E)        86.666667\n",
       "29    wenya, Wesley        ENG209  2(A,C,E)        86.789474\n",
       "30    wenya, Wesley        ENG209  7(B,D-E)        89.714286"
      ]
     },
     "execution_count": 186,
     "metadata": {},
     "output_type": "execute_result"
    }
   ],
   "source": [
    "# calculate the average percent of course in different group of the teacher's name and section period  \n",
    "df2 = df.groupby(['Name filtered','Course_Number','Period'])['Percent'].mean().reset_index(name=('Average_percent'))\n",
    "df2"
   ]
  },
  {
   "cell_type": "code",
   "execution_count": 2,
   "id": "5e7af681",
   "metadata": {},
   "outputs": [],
   "source": [
    "# check the feature distribution\n",
    "import matplotlib.pyplot as plt\n",
    "import seaborn as sns"
   ]
  },
  {
   "cell_type": "code",
   "execution_count": 184,
   "id": "d3cb8521",
   "metadata": {},
   "outputs": [
    {
     "data": {
      "text/plain": [
       "<AxesSubplot:xlabel='Average_percent', ylabel='Name filtered'>"
      ]
     },
     "execution_count": 184,
     "metadata": {},
     "output_type": "execute_result"
    },
    {
     "data": {
      "image/png": "[encoded data removed]",
      "text/plain": [
       "<Figure size 432x288 with 1 Axes>"
      ]
     },
     "metadata": {
      "needs_background": "light"
     },
     "output_type": "display_data"
    }
   ],
   "source": [
    "# boxplot for numerical feature\n",
    "axss = plt.plot()\n",
    "sns.boxplot(x='Average_percent', y ='Name filtered', data=df2)"
   ]
  },
  {
   "cell_type": "code",
   "execution_count": 188,
   "id": "cf94e305",
   "metadata": {},
   "outputs": [
    {
     "data": {
      "text/plain": [
       "<AxesSubplot:xlabel='Average_percent', ylabel='Period'>"
      ]
     },
     "execution_count": 188,
     "metadata": {},
     "output_type": "execute_result"
    },
    {
     "data": {
      "image/png": "[encoded data removed]",
      "text/plain": [
       "<Figure size 432x288 with 1 Axes>"
      ]
     },
     "metadata": {
      "needs_background": "light"
     },
     "output_type": "display_data"
    }
   ],
   "source": [
    "sns.boxplot(x='Average_percent', y ='Period', data=df2)"
   ]
  },
  {
   "cell_type": "code",
   "execution_count": 19,
   "id": "a6e24c53",
   "metadata": {},
   "outputs": [
    {
     "data": {
      "text/plain": [
       "<seaborn.axisgrid.FacetGrid at 0x28743395f70>"
      ]
     },
     "execution_count": 19,
     "metadata": {},
     "output_type": "execute_result"
    },
    {
     "data": {
      "image/png": "[encoded data removed]",
      "text/plain": [
       "<Figure size 470.375x360 with 1 Axes>"
      ]
     },
     "metadata": {
      "needs_background": "light"
     },
     "output_type": "display_data"
    }
   ],
   "source": [
    "# understand categorical feature\n",
    "# 'Name filtered', 'Grade'\n",
    "# 'HasCrCard', 'IsActiveMember\n",
    "# axss = plt.plot(figsize=(20,10))\n",
    "# sns.countplot(x='Grade',hue='Name filtered',data=df)\n",
    "sns.catplot(x='Grade',hue='Name filtered',data=df, kind='count')"
   ]
  },
  {
   "cell_type": "code",
   "execution_count": 21,
   "id": "e77849a6",
   "metadata": {},
   "outputs": [
    {
     "data": {
      "text/plain": [
       "<seaborn.axisgrid.FacetGrid at 0x28744da4880>"
      ]
     },
     "execution_count": 21,
     "metadata": {},
     "output_type": "execute_result"
    },
    {
     "data": {
      "image/png": "[encoded data removed]",
      "text/plain": [
       "<Figure size 437.75x360 with 1 Axes>"
      ]
     },
     "metadata": {
      "needs_background": "light"
     },
     "output_type": "display_data"
    }
   ],
   "source": [
    "sns.catplot(x='Grade', hue='Period', data=df, kind='count')"
   ]
  },
  {
   "cell_type": "markdown",
   "id": "9be7fda2",
   "metadata": {},
   "source": [
    "# Conclusion:\n",
    "1、The most average for the course identified in box and whisker chart by different section indentified by the teachers'name and section period are Jack and 4(A,C,E) respectively.  \n",
    "2、As the bar and graph char shown above, most students got A in the section period of 7(BDE). The least student got letter grade of W for each section period.  \n",
    "3、In addtion, a large amount of students got a high grade (A+) in the Dinna's class. "
   ]
  }
 ],
 "metadata": {
  "kernelspec": {
   "display_name": "Python 3",
   "language": "python",
   "name": "python3"
  },
  "language_info": {
   "codemirror_mode": {
    "name": "ipython",
    "version": 3
   },
   "file_extension": ".py",
   "mimetype": "text/x-python",
   "name": "python",
   "nbconvert_exporter": "python",
   "pygments_lexer": "ipython3",
   "version": "3.8.8"
  }
 },
 "nbformat": 4,
 "nbformat_minor": 5
}
